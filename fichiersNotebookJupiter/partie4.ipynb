{
 "cells": [
  {
   "cell_type": "code",
   "execution_count": 551,
   "metadata": {},
   "outputs": [],
   "source": [
    "import numpy as np\n",
    "class Polynome() :\n",
    "    import numpy as np\n",
    "    \n",
    "    def __init__(self , coefs):\n",
    "        if isinstance(coefs , (list,tuple)) == True :\n",
    "            self.coefs = coefs\n",
    "            \n",
    "    def __repr__(self):\n",
    "                pol = '' #initialisation par une chaine de caractere vide\n",
    "                #boucle tres long pour gerer les contraintes d'affichage les zeros non affichés etc...\n",
    "                for coef in range(len(self.coefs)) :\n",
    "                    degre = (len(self.coefs)-1) - coef \n",
    "                    if self.coefs[coef] > 0:\n",
    "                        if degre > 1  and degre != (len(self.coefs)-1):\n",
    "                            pol +=  '+'+str(self.coefs[coef])+'x^'+str(degre)\n",
    "                        elif degre == 1  :\n",
    "                            if self.coefs[coef] != 1 :\n",
    "                                if len(self.coefs) == 2 :\n",
    "                                    pol += str(self.coefs[coef])+'x'\n",
    "                                else :\n",
    "                                    pol += '+'+str(self.coefs[coef])+'x'\n",
    "                            else : \n",
    "                                if len(self.coefs) == 2 :\n",
    "                                    pol += 'x'\n",
    "                                else :\n",
    "                                    pol += '+'+'x'\n",
    "                        elif degre == 0 :\n",
    "                            if len(self.coefs) == 1 :\n",
    "                                pol += str(self.coefs[coef]) \n",
    "                            else :\n",
    "                                pol += '+'+str(self.coefs[coef])\n",
    "                        else : \n",
    "                            pol +=  str(self.coefs[coef])+'x^'+str(degre)\n",
    "                    elif self.coefs[coef] < 0:\n",
    "                        if degre > 1 :\n",
    "                            if self.coefs[coef] != -1 :\n",
    "                                pol +=  '-'+str(np.abs(self.coefs[coef]))+'x^'+str(degre)\n",
    "                            else :\n",
    "                                pol += '-'+'x^'+str(degre)\n",
    "                        elif degre == 1 :\n",
    "                            if self.coefs[coef] != -1 :\n",
    "                                pol += '-'+str(np.abs(self.coefs[coef]))+'x'\n",
    "                            else :\n",
    "                                pol += '-'+'x'\n",
    "                            \n",
    "                        else :\n",
    "                            pol += '-'+str(np.abs(self.coefs[coef]))\n",
    "                    else :\n",
    "                        pass\n",
    "                    if len(pol) == 0 :\n",
    "                        pol = '0'\n",
    "               \n",
    "                return pol\n",
    "            \n",
    "    def degre_pol(self):\n",
    "        return len(self.coefs)\n",
    "    \n",
    "    def coef_plus_haut_degre(self):\n",
    "        return self.coefs[0]\n",
    "    \n",
    "    def __pos__(self):\n",
    "        return self\n",
    "    \n",
    "    def __neg__(self):\n",
    "        self.coefs_neg = [-i for i in self.coefs]\n",
    "        return Polynome(self.coefs_neg)\n",
    "    \n",
    "    \n",
    "    def __add__(self, other):\n",
    "        if isinstance(other, Polynome):\n",
    "            if len(self.coefs) > len(other.coefs) :\n",
    "                new_coefs = np.add(self.coefs[(len(self.coefs) - len(other.coefs) ): ], other.coefs)\n",
    "                \n",
    "                new_coefs = list(new_coefs)\n",
    "                \n",
    "                result = self.coefs[:(len(self.coefs) - len(other.coefs)  )]\n",
    "                \n",
    "                for i in new_coefs:\n",
    "                    result.append(i)\n",
    "                #on separe en deux cas parceque avec numpay on peut ajouter que des arrays de mm taille\n",
    "                #on fait la reconversion en liste pour pouvoir mettre sous forme de polynome\n",
    "                \n",
    "            else :\n",
    "                new_coefs = np.add(other.coefs[(len(other.coefs) - len(self.coefs) ): ], self.coefs)\n",
    "                \n",
    "                new_coefs = list(new_coefs)\n",
    "                \n",
    "                result = other.coefs[:(len(other.coefs) - len(self.coefs) )]\n",
    "                for i in new_coefs:\n",
    "                    result.append(i)       \n",
    "            \n",
    "            return Polynome(result)\n",
    "        \n",
    "    def __sub__(self, other):\n",
    "        #une soustraction est aussi une addition\n",
    "        if isinstance(other, Polynome):\n",
    "            return self + -other\n",
    "        \n",
    "    def __mul__(self, other):\n",
    "        #ici on se sert de la multiplication de deux arrays via numpay\n",
    "        if isinstance(other, Polynome):\n",
    "            mult = Polynome([0]) #recuperer la somme \n",
    "            j=1  #compteur pour decremter le degre du x\n",
    "            for i in self.coefs :\n",
    "                news = list(np.array(other.coefs)) + list(np.ones(len(self.coefs)-j)) #on ajoute des 1 pour gerer les exposant\n",
    "                mult += ( Polynome( list(np.array(news).dot(np.array(i))) ) - Polynome( list( np.array(list(np.zeros(len(other.coefs)))+ list(np.ones(len(self.coefs)-j)) ).dot(np.array(i)) )  )    )    \n",
    "                #les 1 sont retrancher et conservation des esposants\n",
    "                j=j+1\n",
    "            return mult\n",
    "            \n",
    "            \n",
    "    def __truediv__(self, other):\n",
    "        #diviser c'est multiplier par l'inverse\n",
    "        if isinstance(other, Polynome):\n",
    "            inverse_other = []\n",
    "            for i in other.coefs :\n",
    "                inverse_other.append(1/i)\n",
    "            return self * Polynome(inverse_other)\n",
    "        #diviser c'est multiplier par l'inverse\n",
    "    \n",
    "        \n",
    "        \n",
    "    \n",
    " \n",
    "    \n",
    "        \n",
    "        "
   ]
  },
  {
   "cell_type": "code",
   "execution_count": 552,
   "metadata": {},
   "outputs": [
    {
     "data": {
      "text/plain": [
       "0-x^2+1"
      ]
     },
     "execution_count": 552,
     "metadata": {},
     "output_type": "execute_result"
    }
   ],
   "source": [
    "Polynome((0,-1,0,1))"
   ]
  },
  {
   "cell_type": "code",
   "execution_count": 553,
   "metadata": {},
   "outputs": [
    {
     "data": {
      "text/plain": [
       "10x+1"
      ]
     },
     "execution_count": 553,
     "metadata": {},
     "output_type": "execute_result"
    }
   ],
   "source": [
    "pol1 = Polynome([10,1])\n",
    "pol1"
   ]
  },
  {
   "cell_type": "code",
   "execution_count": 554,
   "metadata": {},
   "outputs": [
    {
     "data": {
      "text/plain": [
       "10"
      ]
     },
     "execution_count": 554,
     "metadata": {},
     "output_type": "execute_result"
    }
   ],
   "source": [
    "pol1.coef_plus_haut_degre()"
   ]
  },
  {
   "cell_type": "code",
   "execution_count": 555,
   "metadata": {},
   "outputs": [],
   "source": [
    "pol2 = Polynome([10,1,4])"
   ]
  },
  {
   "cell_type": "code",
   "execution_count": 556,
   "metadata": {},
   "outputs": [
    {
     "data": {
      "text/plain": [
       "10x^2+x+4"
      ]
     },
     "execution_count": 556,
     "metadata": {},
     "output_type": "execute_result"
    }
   ],
   "source": [
    "pol2"
   ]
  },
  {
   "cell_type": "code",
   "execution_count": 557,
   "metadata": {},
   "outputs": [
    {
     "data": {
      "text/plain": [
       "100.0x^3+20.0x^2+41.0x+4.0"
      ]
     },
     "execution_count": 557,
     "metadata": {},
     "output_type": "execute_result"
    }
   ],
   "source": [
    "pol2 * pol1"
   ]
  },
  {
   "cell_type": "code",
   "execution_count": 558,
   "metadata": {},
   "outputs": [
    {
     "data": {
      "text/plain": [
       "1.0x^3+10.1x^2+1.4x+4.0"
      ]
     },
     "execution_count": 558,
     "metadata": {},
     "output_type": "execute_result"
    }
   ],
   "source": [
    "pol2 / pol1"
   ]
  },
  {
   "cell_type": "code",
   "execution_count": 530,
   "metadata": {},
   "outputs": [],
   "source": [
    "import numpy as np\n",
    "c = np.add(a,b)"
   ]
  },
  {
   "cell_type": "code",
   "execution_count": 456,
   "metadata": {},
   "outputs": [],
   "source": [
    "a = [2,-4,5]"
   ]
  },
  {
   "cell_type": "code",
   "execution_count": 457,
   "metadata": {},
   "outputs": [],
   "source": [
    "b = [-i for i in a]"
   ]
  },
  {
   "cell_type": "code",
   "execution_count": 458,
   "metadata": {},
   "outputs": [
    {
     "data": {
      "text/plain": [
       "[-2, 4, -5]"
      ]
     },
     "execution_count": 458,
     "metadata": {},
     "output_type": "execute_result"
    }
   ],
   "source": [
    "b"
   ]
  },
  {
   "cell_type": "code",
   "execution_count": 459,
   "metadata": {},
   "outputs": [],
   "source": [
    "a = np.array(a)"
   ]
  },
  {
   "cell_type": "code",
   "execution_count": 460,
   "metadata": {},
   "outputs": [],
   "source": [
    "b = np.array(b)"
   ]
  },
  {
   "cell_type": "code",
   "execution_count": 461,
   "metadata": {},
   "outputs": [
    {
     "data": {
      "text/plain": [
       "array([ -4, -16, -25])"
      ]
     },
     "execution_count": 461,
     "metadata": {},
     "output_type": "execute_result"
    }
   ],
   "source": [
    "a*b"
   ]
  },
  {
   "cell_type": "code",
   "execution_count": 264,
   "metadata": {},
   "outputs": [
    {
     "data": {
      "text/plain": [
       "[-4, -16, -25]"
      ]
     },
     "execution_count": 264,
     "metadata": {},
     "output_type": "execute_result"
    }
   ],
   "source": [
    "list(a*b)"
   ]
  },
  {
   "cell_type": "code",
   "execution_count": 312,
   "metadata": {},
   "outputs": [
    {
     "data": {
      "text/plain": [
       "array([1., 1., 1., 1., 1.])"
      ]
     },
     "execution_count": 312,
     "metadata": {},
     "output_type": "execute_result"
    }
   ],
   "source": [
    "np.ones(5).T"
   ]
  },
  {
   "cell_type": "code",
   "execution_count": 321,
   "metadata": {},
   "outputs": [],
   "source": [
    "a = np.array([[1,1,1]]).T"
   ]
  },
  {
   "cell_type": "code",
   "execution_count": 322,
   "metadata": {},
   "outputs": [],
   "source": [
    "b = np.array(b)"
   ]
  },
  {
   "cell_type": "code",
   "execution_count": 325,
   "metadata": {},
   "outputs": [
    {
     "data": {
      "text/plain": [
       "array([[1],\n",
       "       [1],\n",
       "       [1]])"
      ]
     },
     "execution_count": 325,
     "metadata": {},
     "output_type": "execute_result"
    }
   ],
   "source": [
    "a"
   ]
  },
  {
   "cell_type": "code",
   "execution_count": 326,
   "metadata": {},
   "outputs": [
    {
     "data": {
      "text/plain": [
       "array([-2,  4, -5])"
      ]
     },
     "execution_count": 326,
     "metadata": {},
     "output_type": "execute_result"
    }
   ],
   "source": [
    "b"
   ]
  },
  {
   "cell_type": "code",
   "execution_count": 324,
   "metadata": {},
   "outputs": [
    {
     "data": {
      "text/plain": [
       "array([-3])"
      ]
     },
     "execution_count": 324,
     "metadata": {},
     "output_type": "execute_result"
    }
   ],
   "source": [
    "b.dot(a)"
   ]
  },
  {
   "cell_type": "code",
   "execution_count": null,
   "metadata": {},
   "outputs": [],
   "source": []
  }
 ],
 "metadata": {
  "kernelspec": {
   "display_name": "Python 3",
   "language": "python",
   "name": "python3"
  },
  "language_info": {
   "codemirror_mode": {
    "name": "ipython",
    "version": 3
   },
   "file_extension": ".py",
   "mimetype": "text/x-python",
   "name": "python",
   "nbconvert_exporter": "python",
   "pygments_lexer": "ipython3",
   "version": "3.7.6"
  }
 },
 "nbformat": 4,
 "nbformat_minor": 4
}
