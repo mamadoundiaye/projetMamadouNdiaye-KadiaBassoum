{
 "cells": [
  {
   "cell_type": "code",
   "execution_count": 1,
   "metadata": {},
   "outputs": [],
   "source": [
    "import os.path\n",
    "import glob\n",
    "    "
   ]
  },
  {
   "cell_type": "code",
   "execution_count": 2,
   "metadata": {},
   "outputs": [
    {
     "data": {
      "text/plain": [
       "<module 'ntpath' from 'C:\\\\ProgramData\\\\Anaconda3\\\\lib\\\\ntpath.py'>"
      ]
     },
     "execution_count": 2,
     "metadata": {},
     "output_type": "execute_result"
    }
   ],
   "source": [
    "os.path"
   ]
  },
  {
   "cell_type": "code",
   "execution_count": 3,
   "metadata": {},
   "outputs": [],
   "source": [
    "def count_nb_lines_mod(the_path) :\n",
    "    with open(the_path) as f :\n",
    "        text = f.read()\n",
    "        nbre_lignes = 0\n",
    "        new_text = text.split(\"\\n\")\n",
    "        for i in new_text: \n",
    "            if len(i) != 0 and (i.startswith(\"#\") == False ):\n",
    "                nbre_lignes += 1                                  \n",
    "        return nbre_lignes"
   ]
  },
  {
   "cell_type": "code",
   "execution_count": 4,
   "metadata": {},
   "outputs": [
    {
     "data": {
      "text/plain": [
       "61"
      ]
     },
     "execution_count": 4,
     "metadata": {},
     "output_type": "execute_result"
    }
   ],
   "source": [
    "count_nb_lines_mod('C:\\\\Users\\DMC\\Desktop\\Diangg\\DIC1GIT\\POO-michel\\ProjetPar2\\projet2Mndiaye&KadiaBassoum\\essais\\exo1.py')"
   ]
  },
  {
   "cell_type": "code",
   "execution_count": 5,
   "metadata": {},
   "outputs": [],
   "source": [
    "def count_nb_lines_mod(the_path) :\n",
    "    with open(the_path) as f :\n",
    "        text = f.read()\n",
    "        nbre_lignes = 0\n",
    "        new_text = text.split(\"\\n\")\n",
    "        for i in new_text: \n",
    "            if len(i) != 0 and (i.startswith(\"#\") == False ):\n",
    "                nbre_lignes += 1                                  \n",
    "        return nbre_lignes"
   ]
  },
  {
   "cell_type": "code",
   "execution_count": 6,
   "metadata": {},
   "outputs": [],
   "source": [
    "import os.path\n",
    "import glob\n",
    "def get_modules(the_path) :\n",
    "    os.chdir(the_path)\n",
    "    fichier_py = glob.glob(r\"*.py*\")\n",
    "    return fichier_py\n",
    "    "
   ]
  },
  {
   "cell_type": "code",
   "execution_count": 7,
   "metadata": {},
   "outputs": [
    {
     "data": {
      "text/plain": [
       "['exo1.py', 'exo3.py']"
      ]
     },
     "execution_count": 7,
     "metadata": {},
     "output_type": "execute_result"
    }
   ],
   "source": [
    "get_modules('C:\\\\Users\\DMC\\Desktop\\Diangg\\DIC1GIT\\POO-michel\\ProjetPar2\\projet2Mndiaye&KadiaBassoum\\essais')"
   ]
  },
  {
   "cell_type": "code",
   "execution_count": 8,
   "metadata": {},
   "outputs": [],
   "source": [
    "def get_packages(the_path) :\n",
    "    os.chdir(the_path)\n",
    "    fichier_all = glob.glob(r\"**\")\n",
    "    sous_dossiers = []\n",
    "    for i in fichier_all :\n",
    "        if '.' not in i :\n",
    "            sous_dossiers.append(i)\n",
    "    return sous_dossiers\n",
    "    "
   ]
  },
  {
   "cell_type": "code",
   "execution_count": 9,
   "metadata": {},
   "outputs": [
    {
     "data": {
      "text/plain": [
       "['projet2Mndiaye',\n",
       " 'projet2Mndiaye&KadiaBassoum',\n",
       " 'sqlite-tools-win32-x86-3350500']"
      ]
     },
     "execution_count": 9,
     "metadata": {},
     "output_type": "execute_result"
    }
   ],
   "source": [
    "get_packages('C:\\\\Users\\DMC\\Desktop\\Diangg\\DIC1GIT\\POO-michel\\ProjetPar2')"
   ]
  },
  {
   "cell_type": "code",
   "execution_count": 10,
   "metadata": {},
   "outputs": [],
   "source": [
    "def get_all_modules(the_path) :\n",
    "    all_modules = [get_modules(the_path)]\n",
    "    parcours = get_packages(the_path)\n",
    "    for mods in parcours :\n",
    "        all_modules.append(get_modules(mods))\n",
    "    return all_modules\n",
    "    "
   ]
  },
  {
   "cell_type": "code",
   "execution_count": 11,
   "metadata": {},
   "outputs": [
    {
     "data": {
      "text/plain": [
       "[['exo1.py', 'exo3.py'], ['challenge.py']]"
      ]
     },
     "execution_count": 11,
     "metadata": {},
     "output_type": "execute_result"
    }
   ],
   "source": [
    "get_all_modules('C:\\\\Users\\DMC\\Desktop\\Diangg\\DIC1GIT\\POO-michel\\ProjetPar2\\projet2Mndiaye&KadiaBassoum\\essais')"
   ]
  },
  {
   "cell_type": "code",
   "execution_count": 76,
   "metadata": {},
   "outputs": [],
   "source": [
    "def count_nb_lines_paquet(the_path) :\n",
    "    esp = '\\ '#utile pour faire un append au path\n",
    "    all_modules = [get_modules(the_path)] #recupere les modules du repertoire actuel\n",
    "    parcours = get_packages(the_path) #recupere les sous repertoires\n",
    "    comp1 = 0 #compteur nombre de lignes dans la racine du repertoire\n",
    "    comp2 = 0 #compteur nombre de lignes dans les sous repertoire\n",
    "    \n",
    "    #premiere boucle for pour les lignes de codes dans les modules des sous repertoires\n",
    "    for mods in parcours :\n",
    "        if len(get_all_modules(the_path+esp[0]+mods)) != 0  :\n",
    "            for  i in get_all_modules(the_path+esp[0]+mods) :\n",
    "                comp1 += count_nb_lines_mod(the_path+esp[0]+mods+esp[0]+i[0]) \n",
    "                \n",
    "    #premiere boucle for pour les lignes de codes dans les modules du repertoire actuel\n",
    "    for mod in all_modules :\n",
    "        for fichiers_py in mod :\n",
    "            comp2 += count_nb_lines_mod(the_path+esp[0]+fichiers_py)\n",
    "        \n",
    "    return  comp1 + comp2 #nombre total de lignes \n",
    "\n",
    "    "
   ]
  },
  {
   "cell_type": "code",
   "execution_count": 77,
   "metadata": {},
   "outputs": [
    {
     "data": {
      "text/plain": [
       "67"
      ]
     },
     "execution_count": 77,
     "metadata": {},
     "output_type": "execute_result"
    }
   ],
   "source": [
    "count_nb_lines_paquet('C:\\\\Users\\DMC\\Desktop\\Diangg\\DIC1GIT\\POO-michel\\ProjetPar2\\projet2Mndiaye&KadiaBassoum\\essais')"
   ]
  },
  {
   "cell_type": "code",
   "execution_count": null,
   "metadata": {},
   "outputs": [],
   "source": []
  },
  {
   "cell_type": "code",
   "execution_count": null,
   "metadata": {},
   "outputs": [],
   "source": []
  },
  {
   "cell_type": "code",
   "execution_count": null,
   "metadata": {},
   "outputs": [],
   "source": []
  }
 ],
 "metadata": {
  "kernelspec": {
   "display_name": "Python 3",
   "language": "python",
   "name": "python3"
  },
  "language_info": {
   "codemirror_mode": {
    "name": "ipython",
    "version": 3
   },
   "file_extension": ".py",
   "mimetype": "text/x-python",
   "name": "python",
   "nbconvert_exporter": "python",
   "pygments_lexer": "ipython3",
   "version": "3.7.6"
  }
 },
 "nbformat": 4,
 "nbformat_minor": 4
}
