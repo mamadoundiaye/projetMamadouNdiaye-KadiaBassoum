{
 "cells": [
  {
   "cell_type": "code",
   "execution_count": 2,
   "metadata": {},
   "outputs": [],
   "source": [
    "import sqlite3\n",
    "from sqlite3 import Error\n",
    "\n",
    "\n",
    "# fonction pour creer une base de donnees\n",
    "def create_connection(db_name):\n",
    "    \"\"\" fonction pour creer la base de donnees\n",
    "    :param db_name: le nom de la base de donnees\n",
    "    :return: Connection object or None\n",
    "    \"\"\"\n",
    "    conn = None\n",
    "    try:\n",
    "        conn = sqlite3.connect(db_name)\n",
    "        return conn\n",
    "    except Error as e:\n",
    "        print(e)\n",
    "\n",
    "    return conn\n",
    "\n",
    "\n",
    "# fonction pour creer la table DIC\n",
    "def create_table_db():\n",
    "    conn = create_connection(r\"dic-database.db\")\n",
    "    table_dic = \"\"\" CREATE TABLE IF NOT EXISTS DIC1 (\n",
    "                                        id_ept integer ,\n",
    "                                        nom text ,\n",
    "                                        prenom text ,\n",
    "                                        departement text,\n",
    "                                        niveau text ,\n",
    "                                        telephone text\n",
    "                                    ); \"\"\"\n",
    "    try:\n",
    "        c = conn.cursor()\n",
    "        c.execute(table_dic)\n",
    "    except Error as e:\n",
    "        print(e)\n",
    "\n",
    "\n",
    "\n",
    "\n",
    "\n"
   ]
  },
  {
   "cell_type": "code",
   "execution_count": 3,
   "metadata": {},
   "outputs": [],
   "source": [
    "\n",
    "# fonction pour peupler la table DIC dans la base de donnees dic_database\n",
    "def save_db(id_ele, nom_ele, prenom_el, departement_el, niveau_el, telephone_el):\n",
    "    conn = create_connection(r\"dic-database.db\")\n",
    "    donnees_ele = \"\"\" INSERT  INTO  DIC1(\n",
    "                                        id_ept ,\n",
    "                                        nom ,\n",
    "                                        prenom ,\n",
    "                                        departement ,\n",
    "                                        niveau ,\n",
    "                                        telephone\n",
    "                                    )VALUES(\n",
    "                                    ?,\n",
    "                                    ? ,\n",
    "                                    ? ,\n",
    "                                    ? ,\n",
    "                                    ? ,\n",
    "                                    ? ) ; \"\"\"\n",
    "    c = conn.cursor()\n",
    "    c.execute(donnees_ele , (id_ele, nom_ele, prenom_el, departement_el, niveau_el, telephone_el))\n",
    "    conn.commit()\n",
    "    return c.lastrowid"
   ]
  },
  {
   "cell_type": "code",
   "execution_count": 4,
   "metadata": {},
   "outputs": [],
   "source": [
    "# fonction pour supprimer un enregistrement\n",
    "def delete_db(id_ele):\n",
    "    conn = create_connection(r\"dic-database.db\")\n",
    "    donnees_ele = \"\"\" DELETE FROM DIC1 WHERE id_ept = ? ; \"\"\"\n",
    "\n",
    "    c = conn.cursor()\n",
    "    c.execute(donnees_ele, (id_ele, ))\n",
    "    conn.commit()\n",
    "    \n",
    "\n",
    "\n"
   ]
  },
  {
   "cell_type": "code",
   "execution_count": 202,
   "metadata": {},
   "outputs": [],
   "source": [
    "# qui permet de recupérer (sous forme d’un dictionnaire)\n",
    "#dans la table DIC quelques informations d’un élève-ingénieur en DIC\n",
    "def get_db(id_ele , *positions_id_a_recup):\n",
    "    conn = create_connection(r\"dic-database.db\")\n",
    "    for i in positions_id_a_recup  :\n",
    "        if  i not in range(5):\n",
    "               raise ValueError(\"la donnee n'est pas un attribut\")\n",
    "    c = conn.cursor()\n",
    "    c.execute(\"\"\"select * from DIC1 where id_ept = ?\"\"\" , id_ele)\n",
    "    lignes = c.fetchone()\n",
    "    \n",
    "    dict_eleves = {key:value for (key,value) in (enumerate(lignes))}\n",
    "    infos_requises = [ ]\n",
    "    for i in positions_id_a_recup :\n",
    "        infos_requises.append(dict_eleves[int(i)])\n",
    "    infos_requises = {key:value for (key,value) in (enumerate(infos_requises))}\n",
    "    \n",
    "    \n",
    "    return infos_requises"
   ]
  },
  {
   "cell_type": "code",
   "execution_count": null,
   "metadata": {},
   "outputs": [],
   "source": [
    "# fonction pour modifier un enregistrement\n",
    "def get_all_db():\n",
    "    conn = create_connection(r\"dic-database.db\")\n",
    "  \n",
    "\n",
    "    c = conn.cursor()\n",
    "    c.execute(\"SELECT * FROM DIC1\")\n",
    "    \n",
    "    lignes = c.fetchall()\n",
    "    dict_eleves = {key:value for (key,value) in (enumerate(lignes))}\n",
    "    \n",
    "    return dict_eleves"
   ]
  },
  {
   "cell_type": "code",
   "execution_count": 3,
   "metadata": {},
   "outputs": [],
   "source": [
    "create_table_db()\n"
   ]
  },
  {
   "cell_type": "code",
   "execution_count": 4,
   "metadata": {},
   "outputs": [
    {
     "data": {
      "text/plain": [
       "1"
      ]
     },
     "execution_count": 4,
     "metadata": {},
     "output_type": "execute_result"
    }
   ],
   "source": [
    "\n",
    "save_db(2, 'ndiaye', 'omar', 'git', 'DIC1', '785009876')"
   ]
  },
  {
   "cell_type": "code",
   "execution_count": 5,
   "metadata": {},
   "outputs": [
    {
     "data": {
      "text/plain": [
       "2"
      ]
     },
     "execution_count": 5,
     "metadata": {},
     "output_type": "execute_result"
    }
   ],
   "source": [
    "save_db(1, 'ndiaye', 'Mamadou', 'git', 'DIC1', '785235415')\n"
   ]
  },
  {
   "cell_type": "code",
   "execution_count": 7,
   "metadata": {},
   "outputs": [],
   "source": [
    "delete_db(2)"
   ]
  },
  {
   "cell_type": "code",
   "execution_count": 6,
   "metadata": {},
   "outputs": [
    {
     "data": {
      "text/plain": [
       "3"
      ]
     },
     "execution_count": 6,
     "metadata": {},
     "output_type": "execute_result"
    }
   ],
   "source": [
    "save_db(4, 'sene', 'mbaye', 'git', 'DIC1', '778909876')"
   ]
  },
  {
   "cell_type": "code",
   "execution_count": 46,
   "metadata": {},
   "outputs": [],
   "source": [
    "#modifier_db('DIOP' , 'DIARRA' , 'GIT' , 'DIC1' , '779765432' , 1)"
   ]
  },
  {
   "cell_type": "code",
   "execution_count": 10,
   "metadata": {},
   "outputs": [
    {
     "data": {
      "text/plain": [
       "{0: (1, 'DIOP', 'DIARRA', 'GIT', 'DIC1', '779765432'),\n",
       " 1: (4, 'sene', 'mbaye', 'git', 'DIC1', '778909876')}"
      ]
     },
     "execution_count": 10,
     "metadata": {},
     "output_type": "execute_result"
    }
   ],
   "source": [
    "get_all_db()"
   ]
  },
  {
   "cell_type": "code",
   "execution_count": 206,
   "metadata": {},
   "outputs": [
    {
     "data": {
      "text/plain": [
       "{0: 1, 1: 'DIOP', 2: 'DIARRA', 3: 'GIT'}"
      ]
     },
     "execution_count": 206,
     "metadata": {},
     "output_type": "execute_result"
    }
   ],
   "source": [
    "get_db('1' , 0,1 , 2,3 )\n",
    "#get_db('1')"
   ]
  },
  {
   "cell_type": "code",
   "execution_count": null,
   "metadata": {},
   "outputs": [],
   "source": []
  },
  {
   "cell_type": "code",
   "execution_count": null,
   "metadata": {},
   "outputs": [],
   "source": []
  }
 ],
 "metadata": {
  "kernelspec": {
   "display_name": "Python 3",
   "language": "python",
   "name": "python3"
  },
  "language_info": {
   "codemirror_mode": {
    "name": "ipython",
    "version": 3
   },
   "file_extension": ".py",
   "mimetype": "text/x-python",
   "name": "python",
   "nbconvert_exporter": "python",
   "pygments_lexer": "ipython3",
   "version": "3.7.6"
  }
 },
 "nbformat": 4,
 "nbformat_minor": 4
}
